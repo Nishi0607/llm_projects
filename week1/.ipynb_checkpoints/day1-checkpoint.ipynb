{
 "cells": [
  {
   "cell_type": "markdown",
   "id": "d15d8294-3328-4e07-ad16-8a03e9bbfdb9",
   "metadata": {},
   "source": [
    "# YOUR FIRST LAB\n",
    "### Please read this section. This is valuable to get you prepared, even if it's a long read -- it's important stuff.\n",
    "\n",
    "## Your first Frontier LLM Project\n",
    "\n",
    "Let's build a useful LLM solution - in a matter of minutes.\n",
    "\n",
    "By the end of this course, you will have built an autonomous Agentic AI solution with 7 agents that collaborate to solve a business problem. All in good time! We will start with something smaller...\n",
    "\n",
    "Our goal is to code a new kind of Web Browser. Give it a URL, and it will respond with a summary. The Reader's Digest of the internet!!\n",
    "\n",
    "Before starting, you should have completed the setup for [PC](../SETUP-PC.md) or [Mac](../SETUP-mac.md) and you hopefully launched this jupyter lab from within the project root directory, with your environment activated.\n",
    "\n",
    "## If you're new to Jupyter Lab\n",
    "\n",
    "Welcome to the wonderful world of Data Science experimentation! Once you've used Jupyter Lab, you'll wonder how you ever lived without it. Simply click in each \"cell\" with code in it, such as the cell immediately below this text, and hit Shift+Return to execute that cell. As you wish, you can add a cell with the + button in the toolbar, and print values of variables, or try out variations.  \n",
    "\n",
    "I've written a notebook called [Guide to Jupyter](Guide%20to%20Jupyter.ipynb) to help you get more familiar with Jupyter Labs, including adding Markdown comments, using `!` to run shell commands, and `tqdm` to show progress.\n",
    "\n",
    "## If you're new to the Command Line\n",
    "\n",
    "Please see these excellent guides: [Command line on PC](https://chatgpt.com/share/67b0acea-ba38-8012-9c34-7a2541052665) and [Command line on Mac](https://chatgpt.com/canvas/shared/67b0b10c93a081918210723867525d2b).  \n",
    "\n",
    "## If you'd prefer to work in IDEs\n",
    "\n",
    "If you're more comfortable in IDEs like VSCode, Cursor or PyCharm, they both work great with these lab notebooks too.  \n",
    "If you'd prefer to work in VSCode, [here](https://chatgpt.com/share/676f2e19-c228-8012-9911-6ca42f8ed766) are instructions from an AI friend on how to configure it for the course.\n",
    "\n",
    "## If you'd like to brush up your Python\n",
    "\n",
    "I've added a notebook called [Intermediate Python](Intermediate%20Python.ipynb) to get you up to speed. But you should give it a miss if you already have a good idea what this code does:    \n",
    "`yield from {book.get(\"author\") for book in books if book.get(\"author\")}`\n",
    "\n",
    "## I am here to help\n",
    "\n",
    "If you have any problems at all, please do reach out.  \n",
    "I'm available through the platform, or at ed@edwarddonner.com, or at https://www.linkedin.com/in/eddonner/ if you'd like to connect (and I love connecting!)  \n",
    "And this is new to me, but I'm also trying out X/Twitter at [@edwarddonner](https://x.com/edwarddonner) - if you're on X, please show me how it's done 😂  \n",
    "\n",
    "## More troubleshooting\n",
    "\n",
    "Please see the [troubleshooting](troubleshooting.ipynb) notebook in this folder to diagnose and fix common problems. At the very end of it is a diagnostics script with some useful debug info.\n",
    "\n",
    "## For foundational technical knowledge (eg Git, APIs, debugging) \n",
    "\n",
    "If you're relatively new to programming -- I've got your back! While it's ideal to have some programming experience for this course, there's only one mandatory prerequisite: plenty of patience. 😁 I've put together a set of self-study guides that cover Git and GitHub, APIs and endpoints, beginner python and more.\n",
    "\n",
    "This covers Git and GitHub; what they are, the difference, and how to use them:  \n",
    "https://github.com/ed-donner/agents/blob/main/guides/03_git_and_github.ipynb\n",
    "\n",
    "This covers technical foundations:  \n",
    "ChatGPT vs API; taking screenshots; Environment Variables; Networking basics; APIs and endpoints:  \n",
    "https://github.com/ed-donner/agents/blob/main/guides/04_technical_foundations.ipynb\n",
    "\n",
    "This covers Python for beginners, and making sure that a `NameError` never trips you up:  \n",
    "https://github.com/ed-donner/agents/blob/main/guides/06_python_foundations.ipynb\n",
    "\n",
    "This covers the essential techniques for figuring out errors:  \n",
    "https://github.com/ed-donner/agents/blob/main/guides/08_debugging.ipynb\n",
    "\n",
    "And you'll find other useful guides in the same folder in GitHub. Some information applies to my other Udemy course (eg Async Python) but most of it is very relevant for LLM engineering.\n",
    "\n",
    "## If this is old hat!\n",
    "\n",
    "If you're already comfortable with today's material, please hang in there; you can move swiftly through the first few labs - we will get much more in depth as the weeks progress. Ultimately we will fine-tune our own LLM to compete with OpenAI!\n",
    "\n",
    "<table style=\"margin: 0; text-align: left;\">\n",
    "    <tr>\n",
    "        <td style=\"width: 150px; height: 150px; vertical-align: middle;\">\n",
    "            <img src=\"../important.jpg\" width=\"150\" height=\"150\" style=\"display: block;\" />\n",
    "        </td>\n",
    "        <td>\n",
    "            <h2 style=\"color:#900;\">Please read - important note</h2>\n",
    "            <span style=\"color:#900;\">The way I collaborate with you may be different to other courses you've taken. I prefer not to type code while you watch. Rather, I execute Jupyter Labs, like this, and give you an intuition for what's going on. My suggestion is that you carefully execute this yourself, <b>after</b> watching the lecture. Add print statements to understand what's going on, and then come up with your own variations. If you have a Github account, use this to showcase your variations. Not only is this essential practice, but it demonstrates your skills to others, including perhaps future clients or employers...</span>\n",
    "        </td>\n",
    "    </tr>\n",
    "</table>\n",
    "<table style=\"margin: 0; text-align: left;\">\n",
    "    <tr>\n",
    "        <td style=\"width: 150px; height: 150px; vertical-align: middle;\">\n",
    "            <img src=\"../resources.jpg\" width=\"150\" height=\"150\" style=\"display: block;\" />\n",
    "        </td>\n",
    "        <td>\n",
    "            <h2 style=\"color:#f71;\">This code is a live resource - keep an eye out for my emails</h2>\n",
    "            <span style=\"color:#f71;\">I push updates to the code regularly. As people ask questions, I add more examples or improved commentary. As a result, you'll notice that the code below isn't identical to the videos. Everything from the videos is here; but I've also added better explanations and new models like DeepSeek. Consider this like an interactive book.<br/><br/>\n",
    "                I try to send emails regularly with important updates related to the course. You can find this in the 'Announcements' section of Udemy in the left sidebar. You can also choose to receive my emails via your Notification Settings in Udemy. I'm respectful of your inbox and always try to add value with my emails!\n",
    "            </span>\n",
    "        </td>\n",
    "    </tr>\n",
    "</table>\n",
    "<table style=\"margin: 0; text-align: left;\">\n",
    "    <tr>\n",
    "        <td style=\"width: 150px; height: 150px; vertical-align: middle;\">\n",
    "            <img src=\"../business.jpg\" width=\"150\" height=\"150\" style=\"display: block;\" />\n",
    "        </td>\n",
    "        <td>\n",
    "            <h2 style=\"color:#181;\">Business value of these exercises</h2>\n",
    "            <span style=\"color:#181;\">A final thought. While I've designed these notebooks to be educational, I've also tried to make them enjoyable. We'll do fun things like have LLMs tell jokes and argue with each other. But fundamentally, my goal is to teach skills you can apply in business. I'll explain business implications as we go, and it's worth keeping this in mind: as you build experience with models and techniques, think of ways you could put this into action at work today. Please do contact me if you'd like to discuss more or if you have ideas to bounce off me.</span>\n",
    "        </td>\n",
    "    </tr>\n",
    "</table>"
   ]
  },
  {
   "cell_type": "code",
   "execution_count": 1,
   "id": "4e2a9393-7767-488e-a8bf-27c12dca35bd",
   "metadata": {},
   "outputs": [],
   "source": [
    "# imports\n",
    "\n",
    "import os\n",
    "import requests\n",
    "from dotenv import load_dotenv\n",
    "from bs4 import BeautifulSoup\n",
    "from IPython.display import Markdown, display\n",
    "from openai import OpenAI\n",
    "\n",
    "# If you get an error running this cell, then please head over to the troubleshooting notebook!"
   ]
  },
  {
   "cell_type": "markdown",
   "id": "6900b2a8-6384-4316-8aaa-5e519fca4254",
   "metadata": {},
   "source": [
    "# Connecting to OpenAI (or Ollama)\n",
    "\n",
    "The next cell is where we load in the environment variables in your `.env` file and connect to OpenAI.  \n",
    "\n",
    "If you'd like to use free Ollama instead, please see the README section \"Free Alternative to Paid APIs\", and if you're not sure how to do this, there's a full solution in the solutions folder (day1_with_ollama.ipynb).\n",
    "\n",
    "## Troubleshooting if you have problems:\n",
    "\n",
    "Head over to the [troubleshooting](troubleshooting.ipynb) notebook in this folder for step by step code to identify the root cause and fix it!\n",
    "\n",
    "If you make a change, try restarting the \"Kernel\" (the python process sitting behind this notebook) by Kernel menu >> Restart Kernel and Clear Outputs of All Cells. Then try this notebook again, starting at the top.\n",
    "\n",
    "Or, contact me! Message me or email ed@edwarddonner.com and we will get this to work.\n",
    "\n",
    "Any concerns about API costs? See my notes in the README - costs should be minimal, and you can control it at every point. You can also use Ollama as a free alternative, which we discuss during Day 2."
   ]
  },
  {
   "cell_type": "code",
   "execution_count": 2,
   "id": "7b87cadb-d513-4303-baee-a37b6f938e4d",
   "metadata": {},
   "outputs": [
    {
     "name": "stdout",
     "output_type": "stream",
     "text": [
      "API key found and looks good so far!\n"
     ]
    }
   ],
   "source": [
    "# Load environment variables in a file called .env\n",
    "\n",
    "load_dotenv(override=True)\n",
    "api_key = os.getenv('OPENAI_API_KEY')\n",
    "\n",
    "# Check the key\n",
    "\n",
    "if not api_key:\n",
    "    print(\"No API key was found - please head over to the troubleshooting notebook in this folder to identify & fix!\")\n",
    "elif not api_key.startswith(\"sk-proj-\"):\n",
    "    print(\"An API key was found, but it doesn't start sk-proj-; please check you're using the right key - see troubleshooting notebook\")\n",
    "elif api_key.strip() != api_key:\n",
    "    print(\"An API key was found, but it looks like it might have space or tab characters at the start or end - please remove them - see troubleshooting notebook\")\n",
    "else:\n",
    "    print(\"API key found and looks good so far!\")\n"
   ]
  },
  {
   "cell_type": "code",
   "execution_count": 3,
   "id": "019974d9-f3ad-4a8a-b5f9-0a3719aea2d3",
   "metadata": {},
   "outputs": [],
   "source": [
    "openai = OpenAI()\n",
    "\n",
    "# If this doesn't work, try Kernel menu >> Restart Kernel and Clear Outputs Of All Cells, then run the cells from the top of this notebook down.\n",
    "# If it STILL doesn't work (horrors!) then please see the Troubleshooting notebook in this folder for full instructions"
   ]
  },
  {
   "cell_type": "markdown",
   "id": "442fc84b-0815-4f40-99ab-d9a5da6bda91",
   "metadata": {},
   "source": [
    "# Let's make a quick call to a Frontier model to get started, as a preview!"
   ]
  },
  {
   "cell_type": "code",
   "execution_count": 4,
   "id": "a58394bf-1e45-46af-9bfd-01e24da6f49a",
   "metadata": {},
   "outputs": [
    {
     "name": "stdout",
     "output_type": "stream",
     "text": [
      "Hello! Welcome! I'm glad you're here. How can I assist you today?\n"
     ]
    }
   ],
   "source": [
    "# To give you a preview -- calling OpenAI with these messages is this easy. Any problems, head over to the Troubleshooting notebook.\n",
    "\n",
    "message = \"Hello, GPT! This is my first ever message to you! Hi!\"\n",
    "response = openai.chat.completions.create(model=\"gpt-4o-mini\", messages=[{\"role\":\"user\", \"content\":message}])\n",
    "print(response.choices[0].message.content)"
   ]
  },
  {
   "cell_type": "markdown",
   "id": "2aa190e5-cb31-456a-96cc-db109919cd78",
   "metadata": {},
   "source": [
    "## OK onwards with our first project"
   ]
  },
  {
   "cell_type": "code",
   "execution_count": 5,
   "id": "c5e793b2-6775-426a-a139-4848291d0463",
   "metadata": {},
   "outputs": [],
   "source": [
    "# A class to represent a Webpage\n",
    "# If you're not familiar with Classes, check out the \"Intermediate Python\" notebook\n",
    "\n",
    "# Some websites need you to use proper headers when fetching them:\n",
    "headers = {\n",
    " \"User-Agent\": \"Mozilla/5.0 (Windows NT 10.0; Win64; x64) AppleWebKit/537.36 (KHTML, like Gecko) Chrome/117.0.0.0 Safari/537.36\"\n",
    "}\n",
    "\n",
    "class Website:\n",
    "\n",
    "    def __init__(self, url):\n",
    "        \"\"\"\n",
    "        Create this Website object from the given url using the BeautifulSoup library\n",
    "        \"\"\"\n",
    "        self.url = url\n",
    "        response = requests.get(url, headers=headers)\n",
    "        soup = BeautifulSoup(response.content, 'html.parser')\n",
    "        self.title = soup.title.string if soup.title else \"No title found\"\n",
    "        for irrelevant in soup.body([\"script\", \"style\", \"img\", \"input\"]):\n",
    "            irrelevant.decompose()\n",
    "        self.text = soup.body.get_text(separator=\"\\n\", strip=True)"
   ]
  },
  {
   "cell_type": "code",
   "execution_count": 18,
   "id": "2ef960cf-6dc2-4cda-afb3-b38be12f4c97",
   "metadata": {},
   "outputs": [
    {
     "name": "stdout",
     "output_type": "stream",
     "text": [
      "AWS Elastic Beanstalk Product Details - Amazon Web Services (AWS)\n",
      "Skip to main content\n",
      "AWS re:Inforce | June 16-18, 2025\n",
      "Learn from AWS security experts with 250+ sessions showcasing real-world implementations.\n",
      "Register now\n",
      "English\n",
      "Contact us\n",
      "Support\n",
      "My account\n",
      "Filter: All\n",
      "Sign in\n",
      "Create Account\n",
      "AWS Elastic Beanstalk\n",
      "Overview\n",
      "Features\n",
      "Pricing\n",
      "Getting Started\n",
      "Resources\n",
      "More\n",
      "Compute\n",
      "›\n",
      "Elastic Beanstalk\n",
      "›\n",
      "Features\n",
      "AWS Elastic Beanstalk Features\n",
      "Why AWS Elastic Beanstalk?\n",
      "AWS Elastic Beanstalk is the fastest way to get web applications up and running on AWS. You can simply upload your application code, and the service automatically handles details such as resource provisioning, load balancing, auto scaling, and monitoring. Elastic Beanstalk is ideal if you have a PHP, Java, Python, Ruby, Node.js, .NET, Go, or Docker web application. Elastic Beanstalk uses core AWS services such as Amazon Elastic Compute Cloud (EC2), Amazon Elastic Container Service (ECS), AWS Auto Scaling, and Elastic Load Balancing (ELB) to easily support applications that need to scale to serve millions of users.\n",
      "Page topics\n",
      "Features\n",
      "10\n",
      "Features\n",
      "Open all\n",
      "Wide selection of application platforms\n",
      "AWS Elastic Beanstalk supports web applications written in many popular languages and frameworks. It requires no or minimal code changes to go from development machine to the cloud. Development options for deploying your web applications include Java, .NET, Node.js, PHP, Ruby, Python, Go, and Docker.\n",
      "Variety of application deployment options\n",
      "With AWS Elastic Beanstalk, you can deploy your code through the AWS Management Console,\n",
      "Elastic Beanstalk Command Line Interface,\n",
      "Visual Studio\n",
      ", and\n",
      "Eclipse\n",
      ". Multiple deployment policies—all at once, rolling, rolling with an additional batch, immutable, and blue/green—offer choices for the speed and safety of deploying your applications while reducing the administrative burden.\n",
      "Monitoring\n",
      "Elastic Beanstalk provides a unified user interface (UI) to monitor and manage the health of your applications.\n",
      "Application Health\n",
      "Elastic Beanstalk collects 40+ key metrics and attributes to determine the health of your applications. With the Elastic Beanstalk Health Dashboard, you can visualize overall application health and customize application health checks, health permissions, and health reporting in one UI.\n",
      "Monitoring, Logging, and Tracing\n",
      "Elastic Beanstalk integration with Amazon CloudWatch and AWS X-Ray means you can use\n",
      "monitoring dashboards\n",
      "to view key performance metrics such as latency, CPU utilization, and response codes. You can also set up CloudWatch alarms to get notified when metrics exceed your chosen thresholds.\n",
      "Updates and management\n",
      "You can choose to automatically get the latest platform versions of your Elastic Beanstalk environment and new patches using\n",
      "managed platform updates\n",
      ". An\n",
      "immutable deployment\n",
      "mechanism ensures these updates are implemented safely. For ongoing management, you can also customize application properties, create alarms, and enable e-mail notifications via Amazon Simple Notification Service (Amazon SNS).\n",
      "Scaling\n",
      "Elastic Beanstalk uses Elastic Load Balancing and Auto Scaling to automatically scale your application in and out based on its specific needs. Multiple availability zones give you an option to improve application reliability and availability.\n",
      "Customization\n",
      "With Elastic Beanstalk, you have the freedom to select the AWS resources, such as Amazon EC2 instance type including Spot instances, that are optimal for your application. You also retain full control over the AWS resources powering your application. If you decide you want to take over some (or all) of the elements of your infrastructure, you can do so seamlessly by using Elastic Beanstalk's management capabilities.\n",
      "Compliance\n",
      "Elastic Beanstalk meets the criteria for ISO, PCI, SOC 1, SOC 2, and SOC 3 compliance along with the criteria for HIPAA eligibility. This means applications running on Elastic Beanstalk can process regulated financial data or protected health information (PHI).\n",
      "AWS Graviton support\n",
      "AWS Graviton arm64-based processors deliver the best price performance for your cloud workloads running in Amazon EC2. With AWS Graviton on Elastic Beanstalk, you can select EC2 instance types to meet optimization needs of your workloads and benefit from improved price performance over a comparable x86-based processor.\n",
      "Get started\n",
      "Pricing\n",
      "Visit the AWS Elastic Beanstalk Pricing Page\n",
      "Learn more\n",
      "Getting started\n",
      "Ready to get started?\n",
      "Sign up\n",
      "Create an AWS account\n",
      "Learn\n",
      "What Is AWS?\n",
      "What Is Cloud Computing?\n",
      "What Is Generative AI?\n",
      "Cloud Computing Concepts Hub\n",
      "AWS Cloud Security\n",
      "What's New\n",
      "Blogs\n",
      "Press Releases\n",
      "Resources\n",
      "Getting Started\n",
      "Training\n",
      "AWS Trust Center\n",
      "AWS Solutions Library\n",
      "Architecture Center\n",
      "Product and Technical FAQs\n",
      "Analyst Reports\n",
      "AWS Partners\n",
      "Developers\n",
      "Developer Center\n",
      "SDKs & Tools\n",
      ".NET on AWS\n",
      "Python on AWS\n",
      "Java on AWS\n",
      "PHP on AWS\n",
      "JavaScript on AWS\n",
      "Help\n",
      "Contact Us\n",
      "File a Support Ticket\n",
      "AWS re:Post\n",
      "Knowledge Center\n",
      "AWS Support Overview\n",
      "Get Expert Help\n",
      "AWS Accessibility\n",
      "Legal\n",
      "English\n",
      "Back to top\n",
      "Amazon is an Equal Opportunity Employer: Minority / Women / Disability / Veteran / Gender Identity / Sexual Orientation / Age.\n",
      "x\n",
      "facebook\n",
      "linkedin\n",
      "instagram\n",
      "twitch\n",
      "youtube\n",
      "podcasts\n",
      "email\n",
      "Privacy\n",
      "Site terms\n",
      "Cookie Preferences\n",
      "© 2025, Amazon Web Services, Inc. or its affiliates. All rights reserved.\n"
     ]
    }
   ],
   "source": [
    "# Let's try one out. Change the website and add print statements to follow along.\n",
    "\n",
    "ed = Website(\"https://aws.amazon.com/elasticbeanstalk/details/\")\n",
    "print(ed.title)\n",
    "print(ed.text)"
   ]
  },
  {
   "cell_type": "markdown",
   "id": "6a478a0c-2c53-48ff-869c-4d08199931e1",
   "metadata": {},
   "source": [
    "## Types of prompts\n",
    "\n",
    "You may know this already - but if not, you will get very familiar with it!\n",
    "\n",
    "Models like GPT4o have been trained to receive instructions in a particular way.\n",
    "\n",
    "They expect to receive:\n",
    "\n",
    "**A system prompt** that tells them what task they are performing and what tone they should use\n",
    "\n",
    "**A user prompt** -- the conversation starter that they should reply to"
   ]
  },
  {
   "cell_type": "code",
   "execution_count": 19,
   "id": "abdb8417-c5dc-44bc-9bee-2e059d162699",
   "metadata": {},
   "outputs": [],
   "source": [
    "# Define our system prompt - you can experiment with this later, changing the last sentence to 'Respond in markdown in Spanish.\"\n",
    "\n",
    "system_prompt = \"You are an assistant that analyzes the contents of a website \\\n",
    "and provides a short summary with bullet points, ignoring text that might be navigation related. \\\n",
    "Respond in markdown.\""
   ]
  },
  {
   "cell_type": "code",
   "execution_count": 20,
   "id": "f0275b1b-7cfe-4f9d-abfa-7650d378da0c",
   "metadata": {},
   "outputs": [],
   "source": [
    "# A function that writes a User Prompt that asks for summaries of websites:\n",
    "\n",
    "def user_prompt_for(website):\n",
    "    user_prompt = f\"You are looking at a website titled {website.title}\"\n",
    "    user_prompt += \"\\nThe contents of this website is as follows; \\\n",
    "please provide a short summary of this website in markdown. \\\n",
    "If it includes news or announcements, then summarize these too.\\n\\n\"\n",
    "    user_prompt += website.text\n",
    "    return user_prompt"
   ]
  },
  {
   "cell_type": "code",
   "execution_count": 21,
   "id": "26448ec4-5c00-4204-baec-7df91d11ff2e",
   "metadata": {},
   "outputs": [
    {
     "name": "stdout",
     "output_type": "stream",
     "text": [
      "You are looking at a website titled AWS Elastic Beanstalk Product Details - Amazon Web Services (AWS)\n",
      "The contents of this website is as follows; please provide a short summary of this website in markdown. If it includes news or announcements, then summarize these too.\n",
      "\n",
      "Skip to main content\n",
      "AWS re:Inforce | June 16-18, 2025\n",
      "Learn from AWS security experts with 250+ sessions showcasing real-world implementations.\n",
      "Register now\n",
      "English\n",
      "Contact us\n",
      "Support\n",
      "My account\n",
      "Filter: All\n",
      "Sign in\n",
      "Create Account\n",
      "AWS Elastic Beanstalk\n",
      "Overview\n",
      "Features\n",
      "Pricing\n",
      "Getting Started\n",
      "Resources\n",
      "More\n",
      "Compute\n",
      "›\n",
      "Elastic Beanstalk\n",
      "›\n",
      "Features\n",
      "AWS Elastic Beanstalk Features\n",
      "Why AWS Elastic Beanstalk?\n",
      "AWS Elastic Beanstalk is the fastest way to get web applications up and running on AWS. You can simply upload your application code, and the service automatically handles details such as resource provisioning, load balancing, auto scaling, and monitoring. Elastic Beanstalk is ideal if you have a PHP, Java, Python, Ruby, Node.js, .NET, Go, or Docker web application. Elastic Beanstalk uses core AWS services such as Amazon Elastic Compute Cloud (EC2), Amazon Elastic Container Service (ECS), AWS Auto Scaling, and Elastic Load Balancing (ELB) to easily support applications that need to scale to serve millions of users.\n",
      "Page topics\n",
      "Features\n",
      "10\n",
      "Features\n",
      "Open all\n",
      "Wide selection of application platforms\n",
      "AWS Elastic Beanstalk supports web applications written in many popular languages and frameworks. It requires no or minimal code changes to go from development machine to the cloud. Development options for deploying your web applications include Java, .NET, Node.js, PHP, Ruby, Python, Go, and Docker.\n",
      "Variety of application deployment options\n",
      "With AWS Elastic Beanstalk, you can deploy your code through the AWS Management Console,\n",
      "Elastic Beanstalk Command Line Interface,\n",
      "Visual Studio\n",
      ", and\n",
      "Eclipse\n",
      ". Multiple deployment policies—all at once, rolling, rolling with an additional batch, immutable, and blue/green—offer choices for the speed and safety of deploying your applications while reducing the administrative burden.\n",
      "Monitoring\n",
      "Elastic Beanstalk provides a unified user interface (UI) to monitor and manage the health of your applications.\n",
      "Application Health\n",
      "Elastic Beanstalk collects 40+ key metrics and attributes to determine the health of your applications. With the Elastic Beanstalk Health Dashboard, you can visualize overall application health and customize application health checks, health permissions, and health reporting in one UI.\n",
      "Monitoring, Logging, and Tracing\n",
      "Elastic Beanstalk integration with Amazon CloudWatch and AWS X-Ray means you can use\n",
      "monitoring dashboards\n",
      "to view key performance metrics such as latency, CPU utilization, and response codes. You can also set up CloudWatch alarms to get notified when metrics exceed your chosen thresholds.\n",
      "Updates and management\n",
      "You can choose to automatically get the latest platform versions of your Elastic Beanstalk environment and new patches using\n",
      "managed platform updates\n",
      ". An\n",
      "immutable deployment\n",
      "mechanism ensures these updates are implemented safely. For ongoing management, you can also customize application properties, create alarms, and enable e-mail notifications via Amazon Simple Notification Service (Amazon SNS).\n",
      "Scaling\n",
      "Elastic Beanstalk uses Elastic Load Balancing and Auto Scaling to automatically scale your application in and out based on its specific needs. Multiple availability zones give you an option to improve application reliability and availability.\n",
      "Customization\n",
      "With Elastic Beanstalk, you have the freedom to select the AWS resources, such as Amazon EC2 instance type including Spot instances, that are optimal for your application. You also retain full control over the AWS resources powering your application. If you decide you want to take over some (or all) of the elements of your infrastructure, you can do so seamlessly by using Elastic Beanstalk's management capabilities.\n",
      "Compliance\n",
      "Elastic Beanstalk meets the criteria for ISO, PCI, SOC 1, SOC 2, and SOC 3 compliance along with the criteria for HIPAA eligibility. This means applications running on Elastic Beanstalk can process regulated financial data or protected health information (PHI).\n",
      "AWS Graviton support\n",
      "AWS Graviton arm64-based processors deliver the best price performance for your cloud workloads running in Amazon EC2. With AWS Graviton on Elastic Beanstalk, you can select EC2 instance types to meet optimization needs of your workloads and benefit from improved price performance over a comparable x86-based processor.\n",
      "Get started\n",
      "Pricing\n",
      "Visit the AWS Elastic Beanstalk Pricing Page\n",
      "Learn more\n",
      "Getting started\n",
      "Ready to get started?\n",
      "Sign up\n",
      "Create an AWS account\n",
      "Learn\n",
      "What Is AWS?\n",
      "What Is Cloud Computing?\n",
      "What Is Generative AI?\n",
      "Cloud Computing Concepts Hub\n",
      "AWS Cloud Security\n",
      "What's New\n",
      "Blogs\n",
      "Press Releases\n",
      "Resources\n",
      "Getting Started\n",
      "Training\n",
      "AWS Trust Center\n",
      "AWS Solutions Library\n",
      "Architecture Center\n",
      "Product and Technical FAQs\n",
      "Analyst Reports\n",
      "AWS Partners\n",
      "Developers\n",
      "Developer Center\n",
      "SDKs & Tools\n",
      ".NET on AWS\n",
      "Python on AWS\n",
      "Java on AWS\n",
      "PHP on AWS\n",
      "JavaScript on AWS\n",
      "Help\n",
      "Contact Us\n",
      "File a Support Ticket\n",
      "AWS re:Post\n",
      "Knowledge Center\n",
      "AWS Support Overview\n",
      "Get Expert Help\n",
      "AWS Accessibility\n",
      "Legal\n",
      "English\n",
      "Back to top\n",
      "Amazon is an Equal Opportunity Employer: Minority / Women / Disability / Veteran / Gender Identity / Sexual Orientation / Age.\n",
      "x\n",
      "facebook\n",
      "linkedin\n",
      "instagram\n",
      "twitch\n",
      "youtube\n",
      "podcasts\n",
      "email\n",
      "Privacy\n",
      "Site terms\n",
      "Cookie Preferences\n",
      "© 2025, Amazon Web Services, Inc. or its affiliates. All rights reserved.\n"
     ]
    }
   ],
   "source": [
    "print(user_prompt_for(ed))"
   ]
  },
  {
   "cell_type": "markdown",
   "id": "ea211b5f-28e1-4a86-8e52-c0b7677cadcc",
   "metadata": {},
   "source": [
    "## Messages\n",
    "\n",
    "The API from OpenAI expects to receive messages in a particular structure.\n",
    "Many of the other APIs share this structure:\n",
    "\n",
    "```python\n",
    "[\n",
    "    {\"role\": \"system\", \"content\": \"system message goes here\"},\n",
    "    {\"role\": \"user\", \"content\": \"user message goes here\"}\n",
    "]\n",
    "```\n",
    "To give you a preview, the next 2 cells make a rather simple call - we won't stretch the mighty GPT (yet!)"
   ]
  },
  {
   "cell_type": "code",
   "execution_count": 22,
   "id": "f25dcd35-0cd0-4235-9f64-ac37ed9eaaa5",
   "metadata": {},
   "outputs": [],
   "source": [
    "messages = [\n",
    "    {\"role\": \"system\", \"content\": \"You are a snarky assistant\"},\n",
    "    {\"role\": \"user\", \"content\": \"What is 2 + 2?\"}\n",
    "]"
   ]
  },
  {
   "cell_type": "code",
   "execution_count": 23,
   "id": "21ed95c5-7001-47de-a36d-1d6673b403ce",
   "metadata": {},
   "outputs": [
    {
     "name": "stdout",
     "output_type": "stream",
     "text": [
      "Oh, we're starting off with the heavy hitters, huh? Well, 2 + 2 equals 4. Mind-blowing, I know!\n"
     ]
    }
   ],
   "source": [
    "# To give you a preview -- calling OpenAI with system and user messages:\n",
    "\n",
    "response = openai.chat.completions.create(model=\"gpt-4o-mini\", messages=messages)\n",
    "print(response.choices[0].message.content)"
   ]
  },
  {
   "cell_type": "markdown",
   "id": "d06e8d78-ce4c-4b05-aa8e-17050c82bb47",
   "metadata": {},
   "source": [
    "## And now let's build useful messages for GPT-4o-mini, using a function"
   ]
  },
  {
   "cell_type": "code",
   "execution_count": 28,
   "id": "0134dfa4-8299-48b5-b444-f2a8c3403c88",
   "metadata": {},
   "outputs": [],
   "source": [
    "# See how this function creates exactly the format above\n",
    "\n",
    "def messages_for(website):\n",
    "    return [\n",
    "        {\"role\": \"system\", \"content\": system_prompt},\n",
    "        {\"role\": \"user\", \"content\": user_prompt_for(website)}\n",
    "    ]"
   ]
  },
  {
   "cell_type": "code",
   "execution_count": 29,
   "id": "36478464-39ee-485c-9f3f-6a4e458dbc9c",
   "metadata": {},
   "outputs": [
    {
     "data": {
      "text/plain": [
       "[{'role': 'system',\n",
       "  'content': 'You are an assistant that analyzes the contents of a website and provides a short summary with bullet points, ignoring text that might be navigation related. Respond in markdown.'},\n",
       " {'role': 'user',\n",
       "  'content': \"You are looking at a website titled AWS Elastic Beanstalk Product Details - Amazon Web Services (AWS)\\nThe contents of this website is as follows; please provide a short summary of this website in markdown. If it includes news or announcements, then summarize these too.\\n\\nSkip to main content\\nAWS re:Inforce | June 16-18, 2025\\nLearn from AWS security experts with 250+ sessions showcasing real-world implementations.\\nRegister now\\nEnglish\\nContact us\\nSupport\\nMy account\\nFilter: All\\nSign in\\nCreate Account\\nAWS Elastic Beanstalk\\nOverview\\nFeatures\\nPricing\\nGetting Started\\nResources\\nMore\\nCompute\\n›\\nElastic Beanstalk\\n›\\nFeatures\\nAWS Elastic Beanstalk Features\\nWhy AWS Elastic Beanstalk?\\nAWS Elastic Beanstalk is the fastest way to get web applications up and running on AWS. You can simply upload your application code, and the service automatically handles details such as resource provisioning, load balancing, auto scaling, and monitoring. Elastic Beanstalk is ideal if you have a PHP, Java, Python, Ruby, Node.js, .NET, Go, or Docker web application. Elastic Beanstalk uses core AWS services such as Amazon Elastic Compute Cloud (EC2), Amazon Elastic Container Service (ECS), AWS Auto Scaling, and Elastic Load Balancing (ELB) to easily support applications that need to scale to serve millions of users.\\nPage topics\\nFeatures\\n10\\nFeatures\\nOpen all\\nWide selection of application platforms\\nAWS Elastic Beanstalk supports web applications written in many popular languages and frameworks. It requires no or minimal code changes to go from development machine to the cloud. Development options for deploying your web applications include Java, .NET, Node.js, PHP, Ruby, Python, Go, and Docker.\\nVariety of application deployment options\\nWith AWS Elastic Beanstalk, you can deploy your code through the AWS Management Console,\\nElastic Beanstalk Command Line Interface,\\nVisual Studio\\n, and\\nEclipse\\n.\\xa0Multiple deployment policies—all at once, rolling, rolling with an additional batch, immutable, and blue/green—offer choices for the speed and safety of deploying your applications while reducing the administrative burden.\\nMonitoring\\nElastic Beanstalk provides a unified user interface (UI) to monitor and manage the health of your applications.\\nApplication Health\\nElastic Beanstalk collects 40+ key metrics and attributes to determine the health of your applications. With the Elastic Beanstalk Health Dashboard, you can visualize overall application health and customize application health checks, health permissions, and health reporting in one UI.\\nMonitoring, Logging, and Tracing\\nElastic Beanstalk integration with Amazon CloudWatch and AWS X-Ray means you can use\\nmonitoring dashboards\\nto view key performance metrics such as latency, CPU utilization, and response codes. You can also set up CloudWatch alarms to get notified when metrics exceed your chosen thresholds.\\nUpdates and management\\nYou can choose to automatically get the latest platform versions of your Elastic Beanstalk environment and new patches using\\nmanaged platform updates\\n. An\\nimmutable deployment\\nmechanism\\xa0ensures these updates are implemented safely. For ongoing management, you can also customize application properties, create alarms, and enable e-mail notifications via Amazon Simple Notification Service (Amazon SNS).\\nScaling\\nElastic Beanstalk uses Elastic Load Balancing and Auto Scaling to automatically scale your application in and out based on its specific needs. Multiple availability zones give you an option to improve application reliability and availability.\\nCustomization\\nWith Elastic Beanstalk, you have the freedom to select the AWS resources, such as Amazon EC2 instance type including Spot instances, that are optimal for your application. You also retain full control over the AWS resources powering your application. If you decide you want to take over some (or all) of the elements of your infrastructure, you can do so seamlessly by using Elastic Beanstalk's management capabilities.\\nCompliance\\nElastic Beanstalk meets the criteria for ISO, PCI, SOC 1, SOC 2, and SOC 3 compliance along with the criteria for HIPAA eligibility. This means applications running on Elastic Beanstalk can process regulated financial data or protected health information (PHI).\\nAWS Graviton support\\nAWS Graviton arm64-based processors deliver the best price performance for your cloud workloads running in Amazon EC2. With AWS Graviton on Elastic Beanstalk, you can select EC2 instance types to meet optimization needs of your workloads and benefit from improved price performance over a comparable x86-based processor.\\nGet started\\nPricing\\nVisit the AWS Elastic Beanstalk Pricing Page\\nLearn more\\nGetting started\\nReady to get started?\\nSign up\\nCreate an AWS account\\nLearn\\nWhat Is AWS?\\nWhat Is Cloud Computing?\\nWhat Is Generative AI?\\nCloud Computing Concepts Hub\\nAWS Cloud Security\\nWhat's New\\nBlogs\\nPress Releases\\nResources\\nGetting Started\\nTraining\\nAWS Trust Center\\nAWS Solutions Library\\nArchitecture Center\\nProduct and Technical FAQs\\nAnalyst Reports\\nAWS Partners\\nDevelopers\\nDeveloper Center\\nSDKs & Tools\\n.NET on AWS\\nPython on AWS\\nJava on AWS\\nPHP on AWS\\nJavaScript on AWS\\nHelp\\nContact Us\\nFile a Support Ticket\\nAWS re:Post\\nKnowledge Center\\nAWS Support Overview\\nGet Expert Help\\nAWS Accessibility\\nLegal\\nEnglish\\nBack to top\\nAmazon is an Equal Opportunity Employer: Minority / Women / Disability / Veteran / Gender Identity / Sexual Orientation / Age.\\nx\\nfacebook\\nlinkedin\\ninstagram\\ntwitch\\nyoutube\\npodcasts\\nemail\\nPrivacy\\nSite terms\\nCookie Preferences\\n© 2025, Amazon Web Services, Inc. or its affiliates. All rights reserved.\"}]"
      ]
     },
     "execution_count": 29,
     "metadata": {},
     "output_type": "execute_result"
    }
   ],
   "source": [
    "# Try this out, and then try for a few more websites\n",
    "\n",
    "messages_for(ed)"
   ]
  },
  {
   "cell_type": "markdown",
   "id": "16f49d46-bf55-4c3e-928f-68fc0bf715b0",
   "metadata": {},
   "source": [
    "## Time to bring it together - the API for OpenAI is very simple!"
   ]
  },
  {
   "cell_type": "code",
   "execution_count": 30,
   "id": "905b9919-aba7-45b5-ae65-81b3d1d78e34",
   "metadata": {},
   "outputs": [],
   "source": [
    "# And now: call the OpenAI API. You will get very familiar with this!\n",
    "\n",
    "def summarize(url):\n",
    "    website = Website(url)\n",
    "    response = openai.chat.completions.create(\n",
    "        model = \"gpt-4o-mini\",\n",
    "        messages = messages_for(website)\n",
    "    )\n",
    "    return response.choices[0].message.content"
   ]
  },
  {
   "cell_type": "code",
   "execution_count": 31,
   "id": "05e38d41-dfa4-4b20-9c96-c46ea75d9fb5",
   "metadata": {},
   "outputs": [
    {
     "data": {
      "text/plain": [
       "'# Summary of Edward Donner\\'s Website\\n\\n- **About Ed**: \\n  - Co-founder and CTO of Nebula.io, focusing on AI and talent management.\\n  - Previous founder and CEO of the AI startup untapt, which was acquired in 2021.\\n  - Enjoys coding, experimenting with LLMs (large language models), DJing, and electronic music production.\\n\\n- **Key Offerings**:\\n  - Nebula.io develops proprietary LLMs for talent sourcing and engagement.\\n  - The platform has received patents and awards, alongside positive media coverage.\\n\\n- **News and Announcements**:\\n  - **May 28, 2025**: Announcement of a new course focused on becoming an LLM expert and leader.\\n  - **May 18, 2025**: Details on the 2025 AI Executive Briefing.\\n  - **April 21, 2025**: Introduction of \"The Complete Agentic AI Engineering Course.\"\\n  - **January 23, 2025**: LLM Workshop offering hands-on resources for working with agents.\\n\\n- **Additional Information**: \\n  - Website includes invites to connect through various social media platforms and a newsletter subscription.'"
      ]
     },
     "execution_count": 31,
     "metadata": {},
     "output_type": "execute_result"
    }
   ],
   "source": [
    "summarize(\"https://edwarddonner.com\")"
   ]
  },
  {
   "cell_type": "code",
   "execution_count": 35,
   "id": "3d926d59-450e-4609-92ba-2d6f244f1342",
   "metadata": {},
   "outputs": [],
   "source": [
    "# A function to display this nicely in the Jupyter output, using markdown\n",
    "\n",
    "def display_summary(url):\n",
    "    summary = summarize(url)\n",
    "    display(Markdown(summary))"
   ]
  },
  {
   "cell_type": "code",
   "execution_count": 38,
   "id": "3018853a-445f-41ff-9560-d925d1774b2f",
   "metadata": {},
   "outputs": [
    {
     "data": {
      "text/markdown": [
       "# AWS Elastic Beanstalk Product Details - Summary\n",
       "\n",
       "**Overview:**\n",
       "- AWS Elastic Beanstalk is a platform for deploying and managing web applications in various programming languages and frameworks, such as PHP, Java, Python, Ruby, Node.js, .NET, Go, and Docker.\n",
       "- The service simplifies the deployment process by automatically handling resource provisioning, load balancing, auto-scaling, and monitoring.\n",
       "\n",
       "**Key Features:**\n",
       "- **Wide Selection of Application Platforms**: Supports a range of popular languages with minimal code changes needed for cloud deployment.\n",
       "- **Deployment Options**: Deploy code via the AWS Management Console, CLI, Visual Studio, or Eclipse with multiple deployment policies like rolling and blue/green.\n",
       "- **Monitoring Tools**: Unified UI for application health assessment, integrated with Amazon CloudWatch and AWS X-Ray for performance metrics tracking.\n",
       "- **Automatic Updates**: Option for managed platform updates with an immutable deployment mechanism to ensure safe updates.\n",
       "- **Scaling Capabilities**: Uses Elastic Load Balancing and Auto Scaling to manage application scaling automatically.\n",
       "- **Customization**: Allows selection of AWS resources, including EC2 instance types, while maintaining control over the application infrastructure.\n",
       "- **Compliance**: Meets several compliance standards like ISO, PCI, SOC, and is HIPAA eligible for handling sensitive data.\n",
       "- **AWS Graviton Support**: Supports arm64-based processors for improved performance and cost-efficiency.\n",
       "\n",
       "**Getting Started:**\n",
       "- Users can create an AWS account to begin utilizing AWS Elastic Beanstalk.\n",
       "\n",
       "**Upcoming Event:**\n",
       "- **AWS re:Inforce**: Scheduled for June 16-18, 2025, featuring over 250 sessions on AWS security from experts."
      ],
      "text/plain": [
       "<IPython.core.display.Markdown object>"
      ]
     },
     "metadata": {},
     "output_type": "display_data"
    }
   ],
   "source": [
    "display_summary(\"https://aws.amazon.com/elasticbeanstalk/details/\")"
   ]
  },
  {
   "cell_type": "markdown",
   "id": "b3bcf6f4-adce-45e9-97ad-d9a5d7a3a624",
   "metadata": {},
   "source": [
    "# Let's try more websites\n",
    "\n",
    "Note that this will only work on websites that can be scraped using this simplistic approach.\n",
    "\n",
    "Websites that are rendered with Javascript, like React apps, won't show up. See the community-contributions folder for a Selenium implementation that gets around this. You'll need to read up on installing Selenium (ask ChatGPT!)\n",
    "\n",
    "Also Websites protected with CloudFront (and similar) may give 403 errors - many thanks Andy J for pointing this out.\n",
    "\n",
    "But many websites will work just fine!"
   ]
  },
  {
   "cell_type": "code",
   "execution_count": 40,
   "id": "45d83403-a24c-44b5-84ac-961449b4008f",
   "metadata": {},
   "outputs": [
    {
     "data": {
      "text/markdown": [
       "# Summary of Business News Today\n",
       "\n",
       "This website is a comprehensive source for news and insights related to business, stock markets, finance, and the economy, with a focus on Indian markets and global financial updates.\n",
       "\n",
       "## Key Features:\n",
       "- **Market Updates**: Reports on stock market indices such as Sensex, Nifty, and ongoing market trends.\n",
       "- **Economic News**: Coverage of economic indicators, corporate actions, and relevant updates impacting businesses.\n",
       "- **Investment Insights**: Technical analysis, investment advice, and recommendations on mutual funds and other financial products.\n",
       "- **IPO News**: Information on upcoming and ongoing initial public offerings (IPOs).\n",
       "- **Global Market Coverage**: Updates from major international stock indices and key financial news from around the globe.\n",
       "\n",
       "## Recent News Highlights:\n",
       "- **Stocks and Trends**:\n",
       "  - Nifty 50 closed at 24,718.60, down 169.60 points (-0.68%).\n",
       "  - Sensex ended at 81,118.60, reflecting a decrease of 573.38 points (-0.70%).\n",
       "  \n",
       "- **Gold Prices**: Reached a record high, breaching ₹1 lakh per 10 grams amidst escalating tensions in the Middle East.\n",
       "\n",
       "- **Air India Plane Crash**: Reports indicate increased scrutiny on the aviation industry following the tragic incident, with Airbus addressing safety concerns.\n",
       "\n",
       "- **Geopolitical Tension**: The situation in the Middle East affecting global markets, including rising oil prices and stock fluctuations linked to military actions.\n",
       "\n",
       "- **Company Announcements**: Significant reports including performance ratings from companies like Airbus, and updates on various IPOs such as Aten Papers, Monolithisch India, and Oswal Pumps.\n",
       "\n",
       "This website serves as a crucial tool for investors, traders, and those interested in financial sciences, providing timely news and expert insights to make informed decisions in the stock and financial markets."
      ],
      "text/plain": [
       "<IPython.core.display.Markdown object>"
      ]
     },
     "metadata": {},
     "output_type": "display_data"
    }
   ],
   "source": [
    "display_summary(\"https://moneycontrol.com\")"
   ]
  },
  {
   "cell_type": "code",
   "execution_count": 41,
   "id": "75e9fd40-b354-4341-991e-863ef2e59db7",
   "metadata": {},
   "outputs": [
    {
     "data": {
      "text/markdown": [
       "# Anthropic Overview\n",
       "\n",
       "- **Key Product**: Claude, an advanced AI model, with the latest version being Claude Opus 4.\n",
       "- **Capabilities**: Offers tools for building AI-powered applications and custom experiences, emphasizing safety and responsible AI development.\n",
       "- **Models**: Includes Claude Opus 4, Claude Sonnet 4, and Claude Haiku 3.5, focused on pushing boundaries in coding and AI agents.\n",
       "- **Core Philosophy**: Prioritizes AI safety and human benefit in technology development.\n",
       "  \n",
       "## Recent News & Announcements\n",
       "\n",
       "- **ISO 42001 Certification**: Announcement regarding the company's recent certification.\n",
       "- **New Models**: Introduction of Claude Opus 4 and Claude Sonnet 4, noted for their power in handling extensive work across different applications.\n",
       "- **Research Initiatives**: Focus on interpreting large language models and their societal impacts, with ongoing research efforts highlighted.\n",
       "\n",
       "## Learning & Development\n",
       "\n",
       "- **Anthropic Academy**: Platform for resources and learning how to build with Claude.\n",
       "- **Research Publications**: Topics include AI alignment, interpretability, and economic impacts related to AI.\n",
       "\n",
       "## Additional Features\n",
       "\n",
       "- Various pricing plans (Team, Enterprise, Education) available for Claude.\n",
       "- Options to collaborate with Claude across coding and customer support solutions."
      ],
      "text/plain": [
       "<IPython.core.display.Markdown object>"
      ]
     },
     "metadata": {},
     "output_type": "display_data"
    }
   ],
   "source": [
    "display_summary(\"https://anthropic.com\")"
   ]
  },
  {
   "cell_type": "markdown",
   "id": "c951be1a-7f1b-448f-af1f-845978e47e2c",
   "metadata": {},
   "source": [
    "<table style=\"margin: 0; text-align: left;\">\n",
    "    <tr>\n",
    "        <td style=\"width: 150px; height: 150px; vertical-align: middle;\">\n",
    "            <img src=\"../business.jpg\" width=\"150\" height=\"150\" style=\"display: block;\" />\n",
    "        </td>\n",
    "        <td>\n",
    "            <h2 style=\"color:#181;\">Business applications</h2>\n",
    "            <span style=\"color:#181;\">In this exercise, you experienced calling the Cloud API of a Frontier Model (a leading model at the frontier of AI) for the first time. We will be using APIs like OpenAI at many stages in the course, in addition to building our own LLMs.\n",
    "\n",
    "More specifically, we've applied this to Summarization - a classic Gen AI use case to make a summary. This can be applied to any business vertical - summarizing the news, summarizing financial performance, summarizing a resume in a cover letter - the applications are limitless. Consider how you could apply Summarization in your business, and try prototyping a solution.</span>\n",
    "        </td>\n",
    "    </tr>\n",
    "</table>\n",
    "\n",
    "<table style=\"margin: 0; text-align: left;\">\n",
    "    <tr>\n",
    "        <td style=\"width: 150px; height: 150px; vertical-align: middle;\">\n",
    "            <img src=\"../important.jpg\" width=\"150\" height=\"150\" style=\"display: block;\" />\n",
    "        </td>\n",
    "        <td>\n",
    "            <h2 style=\"color:#900;\">Before you continue - now try yourself</h2>\n",
    "            <span style=\"color:#900;\">Use the cell below to make your own simple commercial example. Stick with the summarization use case for now. Here's an idea: write something that will take the contents of an email, and will suggest an appropriate short subject line for the email. That's the kind of feature that might be built into a commercial email tool.</span>\n",
    "        </td>\n",
    "    </tr>\n",
    "</table>"
   ]
  },
  {
   "cell_type": "code",
   "execution_count": 44,
   "id": "00743dac-0e70-45b7-879a-d7293a6f68a6",
   "metadata": {},
   "outputs": [
    {
     "name": "stdout",
     "output_type": "stream",
     "text": [
      "# Polylink Polymers (India) Ltd. - Executive Summary\n",
      "\n",
      "## Company Overview\n",
      "- **Industry**: Polymer Manufacturing\n",
      "- **Services**: Production and supply of polymer products used in various applications.\n",
      "\n",
      "## Key Products\n",
      "- **Types of Products**:\n",
      "  - Agricultural Films\n",
      "  - Flexible Packaging\n",
      "  - Specialty Polymers\n",
      "  - Construction Materials\n",
      "\n",
      "## Financial Performance (Hypothetical Metrics)\n",
      "| Metric                | Value        |\n",
      "|-----------------------|--------------|\n",
      "| Revenue (FY 2022)     | ₹XX Crores   |\n",
      "| Net Profit (FY 2022)  | ₹XX Crores   |\n",
      "| Year-on-Year Growth    | XX%          |\n",
      "| Market Cap             | ₹XX Crores   |\n",
      "\n",
      "## Strategic Focus\n",
      "- **Innovation**: Emphasis on sustainable and high-performance polymer solutions.\n",
      "- **Market Expansion**: Plans to enter new markets and product lines.\n",
      "\n",
      "## Sustainability Initiatives\n",
      "- Focus on eco-friendly production practices.\n",
      "- Development of biodegradable polymers.\n",
      "\n",
      "## Conclusion\n",
      "- Polylink Polymers aims to be a leader in the polymer industry through innovation, expansion, and sustainable practices.\n"
     ]
    }
   ],
   "source": [
    "# Step 1: Create your prompts\n",
    "\n",
    "system_prompt = \"You are an assistant who can scan through web pages \\\n",
    "and generate crisp technical summary of products and services. Include any numbers and metrics in tabular format. Ignore content that might be navigation related.\"\n",
    "ws = Website(\"https://www.tijorifinance.com/company/polylink-polymers-india-ltd/\")\n",
    "user_prompt = f\"You are given a website titled {ws.title}.\"\n",
    "user_prompt += \"Give me a summary in markdown for the content on this page. \\\n",
    "Use bullet points where needed\"\n",
    "\n",
    "# Step 2: Make the messages list\n",
    "\n",
    "messages = [\n",
    "    {\"role\": \"system\", \"content\": system_prompt},\n",
    "    {\"role\": \"user\", \"content\": user_prompt}\n",
    "] # fill this in\n",
    "\n",
    "# Step 3: Call OpenAI\n",
    "\n",
    "response = openai.chat.completions.create(model=\"gpt-4o-mini\", messages=messages)\n",
    "\n",
    "# Step 4: print the result\n",
    "\n",
    "print(response.choices[0].message.content)"
   ]
  },
  {
   "cell_type": "markdown",
   "id": "36ed9f14-b349-40e9-a42c-b367e77f8bda",
   "metadata": {},
   "source": [
    "## An extra exercise for those who enjoy web scraping\n",
    "\n",
    "You may notice that if you try `display_summary(\"https://openai.com\")` - it doesn't work! That's because OpenAI has a fancy website that uses Javascript. There are many ways around this that some of you might be familiar with. For example, Selenium is a hugely popular framework that runs a browser behind the scenes, renders the page, and allows you to query it. If you have experience with Selenium, Playwright or similar, then feel free to improve the Website class to use them. In the community-contributions folder, you'll find an example Selenium solution from a student (thank you!)"
   ]
  },
  {
   "cell_type": "code",
   "execution_count": 8,
   "id": "f4484fcf-8b39-4c3f-9674-37970ed71988",
   "metadata": {},
   "outputs": [
    {
     "name": "stdout",
     "output_type": "stream",
     "text": [
      "Element not found: Message: \n",
      "Stacktrace:\n",
      "0   chromedriver                        0x0000000104bc2668 cxxbridge1$str$ptr + 2723108\n",
      "1   chromedriver                        0x0000000104bba8dc cxxbridge1$str$ptr + 2690968\n",
      "2   chromedriver                        0x000000010470e714 cxxbridge1$string$len + 90428\n",
      "3   chromedriver                        0x00000001047557c0 cxxbridge1$string$len + 381416\n",
      "4   chromedriver                        0x0000000104796de8 cxxbridge1$string$len + 649232\n",
      "5   chromedriver                        0x00000001047499c8 cxxbridge1$string$len + 332784\n",
      "6   chromedriver                        0x0000000104b8628c cxxbridge1$str$ptr + 2476360\n",
      "7   chromedriver                        0x0000000104b89520 cxxbridge1$str$ptr + 2489308\n",
      "8   chromedriver                        0x0000000104b67a78 cxxbridge1$str$ptr + 2351412\n",
      "9   chromedriver                        0x0000000104b89da8 cxxbridge1$str$ptr + 2491492\n",
      "10  chromedriver                        0x0000000104b58d6c cxxbridge1$str$ptr + 2290728\n",
      "11  chromedriver                        0x0000000104ba9d74 cxxbridge1$str$ptr + 2622512\n",
      "12  chromedriver                        0x0000000104ba9f00 cxxbridge1$str$ptr + 2622908\n",
      "13  chromedriver                        0x0000000104bba528 cxxbridge1$str$ptr + 2690020\n",
      "14  libsystem_pthread.dylib             0x000000019b282c0c _pthread_start + 136\n",
      "15  libsystem_pthread.dylib             0x000000019b27db80 thread_start + 8\n",
      "\n",
      "<html dir=\"ltr\"><head>\n",
      "<style global=\"\">body{font-family:Arial,Helvetica,sans-serif}.container{align-items:center;display:flex;flex-direction:column;gap:2rem;height:100%;justify-content:center;width:100%}@keyframes enlarge-appear{0%{opacity:0;transform:scale(75%) rotate(-90deg)}to{opacity:1;transform:scale(100%) rotate(0deg)}}.logo{color:#8e8ea0}.scale-appear{animation:enlarge-appear .4s ease-out}@media (min-width:768px){.scale-appear{height:48px;width:48px}}.data:empty{display:none}.data{border-radius:5px;color:#8e8ea0;text-align:center}@media (prefers-color-scheme:dark){body{background-color:#343541}.logo{color:#acacbe}}</style>\n",
      "<meta content=\"360\" http-equiv=\"refresh\"/>\n",
      "<script src=\"/cdn-cgi/challenge-platform/h/b/orchestrate/chl_page/v1?ray=94f8c65998653e57\"></script><title>Just a moment...</title><script async=\"\" crossorigin=\"anonymous\" defer=\"\" src=\"https://challenges.cloudflare.com/turnstile/v0/b/f9574c83b4d7/api.js?onload=lALO8&amp;render=explicit\"></script></head>\n",
      "<body>\n",
      "<div class=\"container\">\n",
      "<div class=\"logo\">\n",
      "<svg class=\"scale-appear\" fill=\"none\" height=\"41\" strokewidth=\"2\" viewbox=\"0 0 41 41\" width=\"41\" xmlns=\"http://www.w3.org/2000/svg\">\n",
      "<path d=\"M37.5324 16.8707C37.9808 15.5241 38.1363 14.0974 37.9886 12.6859C37.8409 11.2744 37.3934 9.91076 36.676 8.68622C35.6126 6.83404 33.9882 5.3676 32.0373 4.4985C30.0864 3.62941 27.9098 3.40259 25.8215 3.85078C24.8796 2.7893 23.7219 1.94125 22.4257 1.36341C21.1295 0.785575 19.7249 0.491269 18.3058 0.500197C16.1708 0.495044 14.0893 1.16803 12.3614 2.42214C10.6335 3.67624 9.34853 5.44666 8.6917 7.47815C7.30085 7.76286 5.98686 8.3414 4.8377 9.17505C3.68854 10.0087 2.73073 11.0782 2.02839 12.312C0.956464 14.1591 0.498905 16.2988 0.721698 18.4228C0.944492 20.5467 1.83612 22.5449 3.268 24.1293C2.81966 25.4759 2.66413 26.9026 2.81182 28.3141C2.95951 29.7256 3.40701 31.0892 4.12437 32.3138C5.18791 34.1659 6.8123 35.6322 8.76321 36.5013C10.7141 37.3704 12.8907 37.5973 14.9789 37.1492C15.9208 38.2107 17.0786 39.0587 18.3747 39.6366C19.6709 40.2144 21.0755 40.5087 22.4946 40.4998C24.6307 40.5054 26.7133 39.8321 28.4418 38.5772C30.1704 37.3223 31.4556 35.5506 32.1119 33.5179C33.5027 33.2332 34.8167 32.6547 35.9659 31.821C37.115 30.9874 38.0728 29.9178 38.7752 28.684C39.8458 26.8371 40.3023 24.6979 40.0789 22.5748C39.8556 20.4517 38.9639 18.4544 37.5324 16.8707ZM22.4978 37.8849C20.7443 37.8874 19.0459 37.2733 17.6994 36.1501C17.7601 36.117 17.8666 36.0586 17.936 36.0161L25.9004 31.4156C26.1003 31.3019 26.2663 31.137 26.3813 30.9378C26.4964 30.7386 26.5563 30.5124 26.5549 30.2825V19.0542L29.9213 20.998C29.9389 21.0068 29.9541 21.0198 29.9656 21.0359C29.977 21.052 29.9842 21.0707 29.9867 21.0902V30.3889C29.9842 32.375 29.1946 34.2791 27.7909 35.6841C26.3872 37.0892 24.4838 37.8806 22.4978 37.8849ZM6.39227 31.0064C5.51397 29.4888 5.19742 27.7107 5.49804 25.9832C5.55718 26.0187 5.66048 26.0818 5.73461 26.1244L13.699 30.7248C13.8975 30.8408 14.1233 30.902 14.3532 30.902C14.583 30.902 14.8088 30.8408 15.0073 30.7248L24.731 25.1103V28.9979C24.7321 29.0177 24.7283 29.0376 24.7199 29.0556C24.7115 29.0736 24.6988 29.0893 24.6829 29.1012L16.6317 33.7497C14.9096 34.7416 12.8643 35.0097 10.9447 34.4954C9.02506 33.9811 7.38785 32.7263 6.39227 31.0064ZM4.29707 13.6194C5.17156 12.0998 6.55279 10.9364 8.19885 10.3327C8.19885 10.4013 8.19491 10.5228 8.19491 10.6071V19.808C8.19351 20.0378 8.25334 20.2638 8.36823 20.4629C8.48312 20.6619 8.64893 20.8267 8.84863 20.9404L18.5723 26.5542L15.206 28.4979C15.1894 28.5089 15.1703 28.5155 15.1505 28.5173C15.1307 28.5191 15.1107 28.516 15.0924 28.5082L7.04046 23.8557C5.32135 22.8601 4.06716 21.2235 3.55289 19.3046C3.03862 17.3858 3.30624 15.3413 4.29707 13.6194ZM31.955 20.0556L22.2312 14.4411L25.5976 12.4981C25.6142 12.4872 25.6333 12.4805 25.6531 12.4787C25.6729 12.4769 25.6928 12.4801 25.7111 12.4879L33.7631 17.1364C34.9967 17.849 36.0017 18.8982 36.6606 20.1613C37.3194 21.4244 37.6047 22.849 37.4832 24.2684C37.3617 25.6878 36.8382 27.0432 35.9743 28.1759C35.1103 29.3086 33.9415 30.1717 32.6047 30.6641C32.6047 30.5947 32.6047 30.4733 32.6047 30.3889V21.188C32.6066 20.9586 32.5474 20.7328 32.4332 20.5338C32.319 20.3348 32.154 20.1698 31.955 20.0556ZM35.3055 15.0128C35.2464 14.9765 35.1431 14.9142 35.069 14.8717L27.1045 10.2712C26.906 10.1554 26.6803 10.0943 26.4504 10.0943C26.2206 10.0943 25.9948 10.1554 25.7963 10.2712L16.0726 15.8858V11.9982C16.0715 11.9783 16.0753 11.9585 16.0837 11.9405C16.0921 11.9225 16.1048 11.9068 16.1207 11.8949L24.1719 7.25025C25.4053 6.53903 26.8158 6.19376 28.2383 6.25482C29.6608 6.31589 31.0364 6.78077 32.2044 7.59508C33.3723 8.40939 34.2842 9.53945 34.8334 10.8531C35.3826 12.1667 35.5464 13.6095 35.3055 15.0128ZM14.2424 21.9419L10.8752 19.9981C10.8576 19.9893 10.8423 19.9763 10.8309 19.9602C10.8195 19.9441 10.8122 19.9254 10.8098 19.9058V10.6071C10.8107 9.18295 11.2173 7.78848 11.9819 6.58696C12.7466 5.38544 13.8377 4.42659 15.1275 3.82264C16.4173 3.21869 17.8524 2.99464 19.2649 3.1767C20.6775 3.35876 22.0089 3.93941 23.1034 4.85067C23.0427 4.88379 22.937 4.94215 22.8668 4.98473L14.9024 9.58517C14.7025 9.69878 14.5366 9.86356 14.4215 10.0626C14.3065 10.2616 14.2466 10.4877 14.2479 10.7175L14.2424 21.9419ZM16.071 17.9991L20.4018 15.4978L24.7325 17.9975V22.9985L20.4018 25.4983L16.071 22.9985V17.9991Z\" fill=\"currentColor\"></path>\n",
      "</svg>\n",
      "</div>\n",
      "<div class=\"data\"><div class=\"main-wrapper\" role=\"main\"><div class=\"main-content\"><p id=\"Ltng6\"></p><div id=\"eIfwt6\" style=\"display: grid;\"><div><div><input id=\"cf-chl-widget-isq9i_response\" name=\"cf-turnstile-response\" type=\"hidden\"/></div></div></div><div class=\"spacer loading-verifying\" id=\"wQZu4\" style=\"display: none; visibility: hidden;\"><div class=\"lds-ring\"><div></div><div></div><div></div><div></div></div></div><div id=\"wBCu6\"></div><div id=\"GEdZ0\" style=\"display: none;\"><div class=\"core-msg spacer\">Waiting for openai.com to respond...</div></div><noscript><div class=\"h2\"><span id=\"challenge-error-text\">Enable JavaScript and cookies to continue</span></div></noscript></div></div><script>(function(){window._cf_chl_opt={cvId: '3',cZone: \"openai.com\",cType: 'managed',cRay: '94f8c65998653e57',cH: 'TagAKpVjYmqQqgFRV4h9ry02An_oZ4IXIUaEjPSCfqU-1749893067-1.2.1.1-y.4H8eZiMwUz2XBAXlmWD98YmtC0MILYisPyiqTgQyhvjCUBEDMziy9BGp6OWxkv',cUPMDTk: \"\\/?__cf_chl_tk=PHwBgVdN9NpV4NKdWhfpMsYx1PBcd63w6nRYsfBfF38-1749893067-1.0.1.1-uEEUDsLK9.61jBBeHFWfV9bQ.hufNrbhH51Kf_ysl6A\",cFPWv: 'b',cITimeS: '1749893067',cTplC: 1,cTplV: 5,cTplB: 'cf',fa: \"\\/?__cf_chl_f_tk=PHwBgVdN9NpV4NKdWhfpMsYx1PBcd63w6nRYsfBfF38-1749893067-1.0.1.1-uEEUDsLK9.61jBBeHFWfV9bQ.hufNrbhH51Kf_ysl6A\",md: \"yaK1B0cw97CAUyT2V2WyB72i3t7GEFEzgyQdE3Uq1LY-1749893067-1.2.1.1-yIWiv6rp4eRsB3bMYPnY49KVXzp.AOtUNHf3HezjDai9Zf6_WrzafL_nKhNoqBjom5PVdLPvKkROR0HOVrVcsLZBenKmN7Dc63j4lh_oEZoZqhqWYY9xJid11aWIzybME986y4ZB5KRhd31tHqIBR1_1AAIEdluvake57qvDbppBgJAzgjJIoC0Q8NZr_RYAgiHpkfh.TKDfuW1AknUmib51LbqhFZZwrAwAkjK1dBjZWK05C8gCzWU28vf2Svt2t2ZeQKup_A9Hou3OHTeyqNoeUEy.4a_guGCDhuzkN55qx3Jdn1FonfdJbu2OyZIaygLL5HVT30fJ3.PK6MOK1UYy9evFUTNGO4ZuSIlmdWOUF7.RHvyR_VgNGa_QIXiPb9J02b0gGHRl1GDvX38K55QwaJWu6ZtzATkWdQJuMDgtszVhKIHerdglCz23uQS2iivoe4ofZKnnxNibJ5Ui7cRfvzOqA3QAXO86tl9ZtqVulP3Z49XtfQl4cpXO49NmY9C04vTcrV4AyoeSCkfwvj7agB.fRVNJerrZ8TTOBBP5H0YGGfSYx1uOqk5YK.k0njeZyRt8j6PHvlobjfJL52Iu4LlGgQ_GIfra_WGoTUkM.fSXlwgayNnv9k.IpMDTY4nvggqBvn_L5NOopJO7RDFEoFLsPAnvD7YeQsihk62hlAqWQ4GLPzvR9livZI0TKHs316V.wChPdJ0Bm4ZFM9i55Oi4Xe8jRudquvwWRRWp_wDkbxmHUlUNLJE.lUJTlTc.nwSB4fi_kPspKgg32EijzbjJGOLTxr6Ah2nlFej2lYyuvHqzjIoWGuFQ3l_h.J_8i2UUQ.6lpL.5hAww3nxo.JovTS1.jOHoSihHXPlczmHawOTvMgp58MEvTTSyEkTep0SeC3yH3GsEVc9dfgoDJyGWiVYLoqAPb.HB1gv.asm_0o7M.OL2GUP5N2iSAIuQXeaYZAL1823_REZjFUTcjbsA8BZEm9tGhAuajMseQjALOoiG72J3UKyeKCuu\",mdrd: \"q1OAor7W8j7yyu5jP9sbliKh3sZb7zkcuYcUZqFAuIY-1749893067-1.2.1.1-BgJSBihejzkho6RUSdmoU3sv.VwyAh5g36mF0QmfyHX.xxY.wyEZbj7rQX_Y6p7YeicqUoAIU5A1Fq3jfBsAZdxajSEJvMdmcuM9G_XYSZ72Bg5fSK0Nu5SeTUpqYr9gTWNVdlo9IEPgdpC4.xyLXBbp3ue2Lk.fkZ2ToLejoNJa_9kgzER8OhLrQLa.mpyCTSPbjt3TiN9jcR8IC77sMSYJ5RqTf0Usyu4IpQvkzVsGJ2wkkgWMwsjeeIhsPw3mUqRVJKVEHas42DLc0hrnTaWf5nepCYJHSPnYYY1MRA7DOZFS7bgV7HNgJ8IdH3UMIaOFJPhLCs0EKPoYmUffARWQitASguCMxpiCmZ3Rf5d5RXbgSEbCNzM6QddQEI76xaUsR9VV.iN.opKsBr.Mxnt2N2egDUmfqowWjHpJBlkH5kpw_zBlng6cs5gqeWBaZpQYqtrSJiSx70UrznPCInO4iL8xiMgMUlL_6uvq2CRRNErAqskKmUeG.24Yn7hUu7UePvfspGVOCVwO3tcEVqlsb3Ptm0JW0tX2S5fvXWRef5HXUDcP2adtxWvG.XgSBy_SzgxXCQRa8KzyefueOywAEvvs8B0RdH826vLHYsdqGbt_SJ9kdX_rhOFMEMaXI3KnTMcr.Wq3oAQLw9VSyi.HVR2xuDxbSCkFhvOAR38VtK_i_BFDDDoU5t56Dfq08KJQ.0ztWAW2H2NfPizt6feL5uN4PAcVAopaZ3Vsc5jvBXQTOnGTQe8spQBKJX14hCJaHPOidf0ku25npyK.JVHiUN7mhnCOLjUXBnsBSkTcI5mCpYzTl9Siw.0mDDALEMEiQ6mrtdVTMvR3iE3Mztsb.DASFm.OWtbCTx5AbD1R4vX50h7KMnvIHCK_4t1dxCsQLJDcNPPU6.fyFB1Xg8qpbJzzXK219u6z1dqeqsAjuyJyY6S0DwBbYzcbvOQxOyvyBVEsja2OxjFouOYiw4HTlksyjez1KRsoYrqtFu2F8_4rp.smrbYz7wpHhevrMEb.oNlSxxkyXDsd4w7r1.3ehHJH7xlpdyl2_VKMzf_zOel3bWdXNOWv5RKYcvLINnSTkb0sT6RNApcCMLd.rnA5tC00ZbjyzhTFxx6SPQZiCjPqkyshcuWaoBlCWeObMk7FwBImO3GlhZyT5eSXmiS1KQSaYgS0LylRzOC4440nuEo9_GkOBf2RmERm4bEhNdTOpbzKx34t5wm1w2DiXhi.ysCeOukiDI.eNBc4uiz_9n6p1sqMpg0w0fyLnq_EZDa5b0L.CYSLEeOjTjey1jhZ1zs4v5HTsowUUm8TaJ6qX9x0DiKVrdcyb1.2JSd00HSuUp8AQh3WzojMTzghZ7DCCM4lxfzUrF__t5N43utiDW0nyFe_IqS25NdGr0P07Hg06FKmU2DbnnJV3tNgm4hbxn1Gw8PpbAsSViPaF3G97JFn47sx6pCiqhOleMwRbBR29PjyCxmIjPrhtNoUe7sl5bI_f.BC.pFQ8VMhEIdbzicUNnkww6TOVNGhdmZCd2MErFHhhvP8NzDI9Ka55TK6CF.jZLlXOKdyKbHxHrPfRfCV1JEHK9usaxIHFoHqjxJ0rGjP1imsLTnNn7jWkFUv6aLnGo.WHqn5_qnqVQGQ84ZIFFvQUFS7B_lKQ_fkOQgH6TYbpfY7a9DW6GpbXWzSLjFpJ88tP7RBLZpmAK9kp9o9IvueZAyTcoIyakPN3NCk1AFbEZqCmZgHSvv1dCa3FaulHvdZEKLs56UPUOeI3Sa4n7NXLtyUeuG9LRD1LBPL.eI5obD3rY99Q912.cOrmcm42IKnq6gNSDAx41r0faXOg9sUYI8..wbG98Xmll6hDbjOrDTok9178EZCtPF61cLeVoeLwCVvg7D93IUxraYRvMCfcWBMFjz_wGbqI_TLTMHs3Nf8ZeuxldPB8FVSWL5nqzgoRYVlQGooPuqlY6S.PTKp4fioo00MXCD92twkdrqgqDEiZ6xnRZcTwN0_ueXVDspPBQ8CgvrfTQnHM1ZMn7XQuVdZo9s3xLQXNADsOjvfigfO2Uvw2sNMWGXK8kR9jDYT4IUu6YHkbVCMNN1Cc3SEr.gh.kfipxB71QNn7tAIl25sdyGPwK0yopYuEHxI5NvB0PIBCal300FHcQlqteKXOVaTWlRnHUO2erh0nUWlcxYQRNocBdB4rjzrtIi7Pxg6ivR4.DXpUwdH_hvRJGuURolGsCOFDlSrNNOD_j7QyA.4fOBVEawz33isn7QCxofGcGNko.xGs8zwR1A6fbSy6tayXbWzJMrRdivSCwcc_j45kvbvhYcz3V752Gc6sWh1Nn0tDI55NDRxBMb.h1RLQYYIQc106jId4fWBtYFU4vtJDzwI6gee.HNkv8iuXsFIkN0pNsJ.CO0Xjqbjfoiung2D9lCz4bcmOu6RV68cdC2kPlWP83xBY3wSlgC41tB_XAtyLjM6ocvu_awQiUuxVRhs5ZC5rlAzI3sw64tYtsnVMeduW11eoSZrkfNrLFu.Sb_5ZJfsDqnCJK7uD1NCrndmT5JIt1jyuNZ2TY4Ie1kkLJmc9wphz1Ql2Hm4GlI35i1C81TJdfPLV8MP42djGGUui1uiHiLVkMaCbLfHi.hhm6dIDcb1yRD9G82.haRiBSuC59OuydoT4wdwFacC2Dv_.yodw6zR_y5m0dKAZ1Xdni9rqqQ6c0UmcQpz2DvBFQlkZSCirIG4iKeeaviq1i365FtNE_ApvaObSv6R04Qr.7j4xb_kl5iBkpec1sBd_dnAwkp1hD_kIb0lIecdZeTp04TMvMlHVE8Nen6NK0iLVRfJODX1nsCCrejBphEI7UhLd8tibyzfdax23GeOvYYsjOuEmUUsFI8whDeAgNQfLZ36CR6eDi0xrgCu_J3C54G7Fv8g6U.ciJJ2GyNcX8Lac2Pni8fh5wcdz8v6Ho4olbGWPfUoiiUPKfV_fxpa5Ez98hUZJDjycVgXfuz8B6dzehBx9e_hXq_uRnqP5yLwZonzZlrhg0mEvFn7Rc.KrzocpjYonyEGJ1_b5P6hC875uFH7XmmlPpIs1U_ujL5J9Z8owF2ItWQGebU332.ECdO5uLjlswqiJwcV_YdwpPJ4Yl17pr_U8s_Qs36m8u..ti5yc1WFmFJN3JSBAUblWHgZIBZ0Gca4bmWNMdsy6cjAuNWk8eRbIIbl0JQxWli1cfcI4Gh2mfRMxVtSMGcwC8UA1lCJtxN6djNgECwaHIpgLu_lo1p7S3NFnJPlq4hARNLCjRydCUXfSZZChpga5fWs0nkmDi_1gdoolEyye.rzcLqzDmB6AbM4Y_FYd0_tNznxDfQB.ixLKmv4R7CSJVU76ap2Qkw\",};var a = document.createElement('script');a.src = '/cdn-cgi/challenge-platform/h/b/orchestrate/chl_page/v1?ray=94f8c65998653e57';window._cf_chl_opt.cOgUHash = location.hash === '' && location.href.indexOf('#') !== -1 ? '#' : location.hash;window._cf_chl_opt.cOgUQuery = location.search === '' && location.href.slice(0, location.href.length - window._cf_chl_opt.cOgUHash.length).indexOf('?') !== -1 ? '?' : location.search;if (window.history && window.history.replaceState) {var ogU = location.pathname + window._cf_chl_opt.cOgUQuery + window._cf_chl_opt.cOgUHash;history.replaceState(null, null, \"\\/?__cf_chl_rt_tk=PHwBgVdN9NpV4NKdWhfpMsYx1PBcd63w6nRYsfBfF38-1749893067-1.0.1.1-uEEUDsLK9.61jBBeHFWfV9bQ.hufNrbhH51Kf_ysl6A\" + window._cf_chl_opt.cOgUHash);a.onload = function() {history.replaceState(null, null, ogU);}}document.getElementsByTagName('head')[0].appendChild(a);}());</script></div>\n",
      "</div>\n",
      "<script>!function(){var e=document.createElement(\"iframe\");function n(){var n=e.contentDocument||e.contentWindow.document;if(n){var t=n.createElement(\"script\");t.nonce=\"\",t.innerHTML=\"window['__CF$cv$params']={r:'792f8224776acf9f',m:'hMcSCCrnIkr7c8Pec6Na6boaaFAnQ6S0ypG2GKRbKgc-1675305063-0-AaJn0SqKZQnadmRQ5O1dM9xMkXWyP+ll7gpl2NHeoNbZTEXMjlB10KkwnEU3hf0/gMODfKqcBGLVecql6U04GGs+iJ/kNrNqj1FgfAOlQV+T2koMQMvUy1zr9tegBBX6BikfccHZhwoJhnXc0eTcg58=',s:[0x60b082f691,0xee65a67e11],u:'/cdn-cgi/challenge-platform/h/b'};var now=Date.now()/1000,offset=14400,ts=''+(Math.floor(now)-Math.floor(now%offset)),_cpo=document.createElement('script');_cpo.nonce='',_cpo.src='/cdn-cgi/challenge-platform/h/b/scripts/alpha/invisible.js?ts='+ts,document.getElementsByTagName('head')[0].appendChild(_cpo);\",n.getElementsByTagName(\"head\")[0].appendChild(t)}}if(e.height=1,e.width=1,e.style.position=\"absolute\",e.style.top=0,e.style.left=0,e.style.border=\"none\",e.style.visibility=\"hidden\",document.body.appendChild(e),\"loading\"!==document.readyState)n();else if(window.addEventListener)document.addEventListener(\"DOMContentLoaded\",n);else{var t=document.onreadystatechange||function(){};document.onreadystatechange=function(e){t(e),\"loading\"!==document.readyState&&(document.onreadystatechange=t,n())}}}();</script><iframe height=\"1\" style=\"position: absolute; top: 0px; left: 0px; border: none; visibility: hidden;\" width=\"1\"></iframe>\n",
      "</body></html>\n"
     ]
    }
   ],
   "source": [
    "from bs4 import BeautifulSoup\n",
    "from selenium import webdriver\n",
    "from selenium.webdriver.chrome.service import Service\n",
    "from selenium.webdriver.common.by import By\n",
    "from selenium.webdriver.support.ui import WebDriverWait\n",
    "from selenium.webdriver.support import expected_conditions as EC\n",
    "\n",
    "# Set the path to the ChromeDriver executable\n",
    "chrome_driver_path = '/opt/homebrew/bin/chromedriver'\n",
    "#chrome_driver_path = '/opt/homebrew/bin'\n",
    "\n",
    "# Initialize the Chrome WebDriver\n",
    "service = Service(executable_path=chrome_driver_path)\n",
    "driver = webdriver.Chrome(service=service)\n",
    "\n",
    "# Navigate to a web page\n",
    "driver.get(\"https://openai.com\")\n",
    "\n",
    "# Wait for a specific element to load (example)\n",
    "try:\n",
    "    element = WebDriverWait(driver, 10).until(\n",
    "        EC.presence_of_element_located((By.TAG_NAME, \"h1\"))\n",
    "    )\n",
    "    print(\"Page title:\", element.text)\n",
    "except Exception as e:\n",
    "    print(\"Element not found:\", e)\n",
    "\n",
    "# Get the fully rendered HTML\n",
    "html = driver.page_source\n",
    "\n",
    "# Print the HTML source or process it\n",
    "htmlParse = BeautifulSoup(html, \"html.parser\")\n",
    "print(htmlParse)\n",
    "\n",
    "# Close the browser\n",
    "driver.quit()"
   ]
  },
  {
   "cell_type": "markdown",
   "id": "eeab24dc-5f90-4570-b542-b0585aca3eb6",
   "metadata": {},
   "source": [
    "# Sharing your code\n",
    "\n",
    "I'd love it if you share your code afterwards so I can share it with others! You'll notice that some students have already made changes (including a Selenium implementation) which you will find in the community-contributions folder. If you'd like add your changes to that folder, submit a Pull Request with your new versions in that folder and I'll merge your changes.\n",
    "\n",
    "If you're not an expert with git (and I am not!) then GPT has given some nice instructions on how to submit a Pull Request. It's a bit of an involved process, but once you've done it once it's pretty clear. As a pro-tip: it's best if you clear the outputs of your Jupyter notebooks (Edit >> Clean outputs of all cells, and then Save) for clean notebooks.\n",
    "\n",
    "Here are good instructions courtesy of an AI friend:  \n",
    "https://chatgpt.com/share/677a9cb5-c64c-8012-99e0-e06e88afd293"
   ]
  },
  {
   "cell_type": "code",
   "execution_count": null,
   "id": "a9b36548-0f94-4344-b13f-f41a1cc50fad",
   "metadata": {},
   "outputs": [],
   "source": []
  }
 ],
 "metadata": {
  "kernelspec": {
   "display_name": "Python 3 (ipykernel)",
   "language": "python",
   "name": "python3"
  },
  "language_info": {
   "codemirror_mode": {
    "name": "ipython",
    "version": 3
   },
   "file_extension": ".py",
   "mimetype": "text/x-python",
   "name": "python",
   "nbconvert_exporter": "python",
   "pygments_lexer": "ipython3",
   "version": "3.11.13"
  }
 },
 "nbformat": 4,
 "nbformat_minor": 5
}
